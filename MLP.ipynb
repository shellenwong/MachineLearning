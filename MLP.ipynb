{
 "cells": [
  {
   "cell_type": "code",
   "execution_count": 12,
   "metadata": {},
   "outputs": [],
   "source": [
    "import numpy as np\n",
    "import math"
   ]
  },
  {
   "cell_type": "markdown",
   "metadata": {},
   "source": [
    "## Q1"
   ]
  },
  {
   "cell_type": "markdown",
   "metadata": {},
   "source": [
    "(0, 0):\n",
    "O1 = 0*0+1*(-1.5) = -1.5  NETWORK NOT FIRED\n",
    "\n",
    "(0, 1), (1, 1) and (1, 0):\n",
    "0*1+1*1+1*0+1*(-1.5)=-0.5\n",
    "NETWORK NOT FIRED\n",
    "\n",
    "bias = -0.5：\n",
    "0*1+1*1+1*0-0.5=0.5 \n",
    "NETWORK FIRED"
   ]
  },
  {
   "cell_type": "code",
   "execution_count": 17,
   "metadata": {},
   "outputs": [
    {
     "name": "stdout",
     "output_type": "stream",
     "text": [
      "1.6487212707001282 0.6065306597126334\n"
     ]
    }
   ],
   "source": [
    "#output：\n",
    "O1 = 1/(math.exp(-0.5))\n",
    "O2 = 1/(math.exp(0.5))\n",
    "print(O1, O2)"
   ]
  },
  {
   "cell_type": "markdown",
   "metadata": {},
   "source": [
    "## Q2"
   ]
  },
  {
   "cell_type": "code",
   "execution_count": 13,
   "metadata": {},
   "outputs": [
    {
     "name": "stdout",
     "output_type": "stream",
     "text": [
      "0.4067300078928128 0.40311562174023297\n"
     ]
    }
   ],
   "source": [
    "#1st layer\n",
    "i1 = 0.05*0.15+0.1*0.2+0.35\n",
    "i2 = 0.05*0.25+0.1*0.3+0.35\n",
    "h1 = 1 / (1 + math.exp(i1))\n",
    "h2 = 1 / (1 + math.exp(i2))\n",
    "print(h1, h2)"
   ]
  },
  {
   "cell_type": "code",
   "execution_count": 14,
   "metadata": {},
   "outputs": [
    {
     "name": "stdout",
     "output_type": "stream",
     "text": [
      "0.0099\n"
     ]
    }
   ],
   "source": [
    "#output\n",
    "#o1 = 0.01  o2 = 0.99\n",
    "ERRo1 = 0.01 * (1 - 0.01) * (1 - 0.01)\n",
    "ERRo2 = 0.99 * (1 - 0.99) * (1 - 0.99)\n",
    "ERRh1 = h1 * (1 - h1) * ((ERRo1 * 0.4) + (ERRo2 * 0.5))\n",
    "ERRh2 = h2 * (1 - h2) * ((ERRo1 * 0.45) + (ERRo2 * 0.55))\n",
    "\n",
    "#total ERROR of hidden layer\n",
    "ERR = ERRo1 + ERRo2\n",
    "print(ERR)"
   ]
  },
  {
   "cell_type": "code",
   "execution_count": 15,
   "metadata": {},
   "outputs": [
    {
     "name": "stdout",
     "output_type": "stream",
     "text": [
      "0.15002394849207404 0.20004789698414807 0.2500268578711669 0.3000537157423338 0.40199318040367876 0.45197546810433803 0.5000201331353907 0.5500199542232762\n"
     ]
    }
   ],
   "source": [
    "#NEW WEIGHT & BIAS\n",
    "w5 = 0.4 + 0.5 * ERRo1 * h1\n",
    "w6 = 0.45 + 0.5 * ERRo1 * h2\n",
    "w7 = 0.5 + 0.5 * ERRo2 * h1\n",
    "w8 = 0.55 + 0.5 * ERRo2 * h2\n",
    "\n",
    "w1 = 0.15 + 0.5 * ERRh1 * 0.05\n",
    "w2 = 0.2 + 0.5 * ERRh1 * 0.1\n",
    "w3 = 0.25 + 0.5 * ERRh2 * 0.05 \n",
    "w4 = 0.3 + 0.5 * ERRh2 * 0.1\n",
    "\n",
    "print(w1, w2, w3, w4, w5, w6, w7, w8)"
   ]
  },
  {
   "cell_type": "code",
   "execution_count": null,
   "metadata": {},
   "outputs": [],
   "source": []
  }
 ],
 "metadata": {
  "kernelspec": {
   "display_name": "Python 3",
   "language": "python",
   "name": "python3"
  },
  "language_info": {
   "codemirror_mode": {
    "name": "ipython",
    "version": 3
   },
   "file_extension": ".py",
   "mimetype": "text/x-python",
   "name": "python",
   "nbconvert_exporter": "python",
   "pygments_lexer": "ipython3",
   "version": "3.7.3"
  }
 },
 "nbformat": 4,
 "nbformat_minor": 2
}
